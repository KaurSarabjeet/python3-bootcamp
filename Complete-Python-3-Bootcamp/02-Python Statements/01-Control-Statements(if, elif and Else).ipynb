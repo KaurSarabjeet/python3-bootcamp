{
 "cells": [
  {
   "cell_type": "code",
   "execution_count": 1,
   "metadata": {},
   "outputs": [],
   "source": [
    "#IF,elif and else Statements\n",
    "#make use of colon and indentation \n",
    "#Syntax\n",
    "#if some_condition:\n",
    "      #execute some code\n",
    "#elif some_other_conditions\n",
    "     #do something else\n",
    "#else:\n",
    " #do something else\n",
    "    "
   ]
  },
  {
   "cell_type": "code",
   "execution_count": 1,
   "metadata": {},
   "outputs": [
    {
     "name": "stdout",
     "output_type": "stream",
     "text": [
      "its true\n"
     ]
    }
   ],
   "source": [
    "if True:\n",
    "    print('its true')"
   ]
  },
  {
   "cell_type": "code",
   "execution_count": 5,
   "metadata": {},
   "outputs": [
    {
     "name": "stdout",
     "output_type": "stream",
     "text": [
      "its true\n"
     ]
    }
   ],
   "source": [
    "if 3>2:\n",
    "     print('its true')"
   ]
  },
  {
   "cell_type": "code",
   "execution_count": 12,
   "metadata": {},
   "outputs": [
    {
     "name": "stdout",
     "output_type": "stream",
     "text": [
      "Dont feed\n"
     ]
    }
   ],
   "source": [
    "hungry=False\n",
    "\n",
    "if hungry:\n",
    "    print('Feed me')\n",
    "else:\n",
    "    print('Dont feed')"
   ]
  },
  {
   "cell_type": "code",
   "execution_count": 3,
   "metadata": {},
   "outputs": [
    {
     "name": "stdout",
     "output_type": "stream",
     "text": [
      "This is not any of the options\n"
     ]
    }
   ],
   "source": [
    "loc='Garrage'\n",
    "\n",
    "if loc=='Auto Shop':\n",
    "    print('This is Auto Shop')\n",
    "elif loc=='Bank':\n",
    "    print('This is a Bank')\n",
    "elif loc=='Store':\n",
    "    print('This is a Store')\n",
    "else:\n",
    "    print('This is not any of the options')"
   ]
  },
  {
   "cell_type": "code",
   "execution_count": 6,
   "metadata": {},
   "outputs": [
    {
     "name": "stdout",
     "output_type": "stream",
     "text": [
      "Hi Frank\n"
     ]
    }
   ],
   "source": [
    "name='Frank'\n",
    "\n",
    "if name=='sam':\n",
    "    print('Hi Sam')\n",
    "elif name=='Frank':\n",
    "    print('Hi Frank')\n",
    "else:\n",
    "    print(\"What is your name\")"
   ]
  },
  {
   "cell_type": "code",
   "execution_count": null,
   "metadata": {},
   "outputs": [],
   "source": []
  }
 ],
 "metadata": {
  "kernelspec": {
   "display_name": "Python 3",
   "language": "python",
   "name": "python3"
  },
  "language_info": {
   "codemirror_mode": {
    "name": "ipython",
    "version": 3
   },
   "file_extension": ".py",
   "mimetype": "text/x-python",
   "name": "python",
   "nbconvert_exporter": "python",
   "pygments_lexer": "ipython3",
   "version": "3.7.1"
  }
 },
 "nbformat": 4,
 "nbformat_minor": 2
}
